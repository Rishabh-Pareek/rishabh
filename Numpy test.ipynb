{
 "cells": [
  {
   "cell_type": "code",
   "execution_count": null,
   "metadata": {},
   "outputs": [],
   "source": [
    "1. Count The Number Of Times Each Value Appears In An Array Of Integers"
   ]
  },
  {
   "cell_type": "code",
   "execution_count": 83,
   "metadata": {},
   "outputs": [
    {
     "name": "stdout",
     "output_type": "stream",
     "text": [
      "Counter({5: 3, 9: 2, 7: 2, 3: 2, 6: 1})\n"
     ]
    }
   ],
   "source": [
    "import numpy as np\n",
    "import collections as col\n",
    "arr = np.random.randint(1,10,10)\n",
    "print(col.Counter(arr.flatten()))\n"
   ]
  },
  {
   "cell_type": "code",
   "execution_count": 5,
   "metadata": {},
   "outputs": [],
   "source": [
    "counts_elements = np.unique(arr, return_counts=True)"
   ]
  },
  {
   "cell_type": "code",
   "execution_count": 6,
   "metadata": {},
   "outputs": [
    {
     "data": {
      "text/plain": [
       "(array([2, 5, 7, 8, 9]), array([1, 3, 1, 3, 2], dtype=int64))"
      ]
     },
     "execution_count": 6,
     "metadata": {},
     "output_type": "execute_result"
    }
   ],
   "source": [
    "counts_elements"
   ]
  },
  {
   "cell_type": "code",
   "execution_count": null,
   "metadata": {},
   "outputs": [],
   "source": [
    "2. Given 9 Integers. You have to convert them into 3*3 Numpy array using Reshape function.\n"
   ]
  },
  {
   "cell_type": "code",
   "execution_count": 7,
   "metadata": {},
   "outputs": [
    {
     "name": "stdout",
     "output_type": "stream",
     "text": [
      "[8 1 7 7 5 7 7 8 4]\n",
      "[[8 1 7]\n",
      " [7 5 7]\n",
      " [7 8 4]]\n"
     ]
    }
   ],
   "source": [
    "array=np.random.randint(0,9,9)\n",
    "print(array)\n",
    "a=np.reshape(array,(3,3))\n",
    "print(a)"
   ]
  },
  {
   "cell_type": "code",
   "execution_count": null,
   "metadata": {},
   "outputs": [],
   "source": [
    "3. How to find the memory size of any array"
   ]
  },
  {
   "cell_type": "code",
   "execution_count": 17,
   "metadata": {},
   "outputs": [
    {
     "data": {
      "text/plain": [
       "400"
      ]
     },
     "execution_count": 17,
     "metadata": {},
     "output_type": "execute_result"
    }
   ],
   "source": [
    "array=np.random.randint(99,size=(10,10))\n",
    "array.nbytes"
   ]
  },
  {
   "cell_type": "code",
   "execution_count": null,
   "metadata": {},
   "outputs": [],
   "source": [
    "4. Create a 2d array of size 10 by 10 with 1 on the border and 0 inside."
   ]
  },
  {
   "cell_type": "code",
   "execution_count": 15,
   "metadata": {},
   "outputs": [
    {
     "name": "stdout",
     "output_type": "stream",
     "text": [
      "[[1. 1. 1. 1. 1. 1. 1. 1. 1. 1.]\n",
      " [1. 0. 0. 0. 0. 0. 0. 0. 0. 1.]\n",
      " [1. 0. 0. 0. 0. 0. 0. 0. 0. 1.]\n",
      " [1. 0. 0. 0. 0. 0. 0. 0. 0. 1.]\n",
      " [1. 0. 0. 0. 0. 0. 0. 0. 0. 1.]\n",
      " [1. 0. 0. 0. 0. 0. 0. 0. 0. 1.]\n",
      " [1. 0. 0. 0. 0. 0. 0. 0. 0. 1.]\n",
      " [1. 0. 0. 0. 0. 0. 0. 0. 0. 1.]\n",
      " [1. 0. 0. 0. 0. 0. 0. 0. 0. 1.]\n",
      " [1. 1. 1. 1. 1. 1. 1. 1. 1. 1.]]\n"
     ]
    }
   ],
   "source": [
    "data=np.ones((10,10))\n",
    "data[1:-1,1:-1]=0\n",
    "print(data)"
   ]
  },
  {
   "cell_type": "code",
   "execution_count": null,
   "metadata": {},
   "outputs": [],
   "source": [
    "5.Create a 8x8 matrix and fill it with a checkerboard pattern."
   ]
  },
  {
   "cell_type": "code",
   "execution_count": 19,
   "metadata": {},
   "outputs": [
    {
     "name": "stdout",
     "output_type": "stream",
     "text": [
      "[[0 1 0 1 0 1 0 1]\n",
      " [1 0 1 0 1 0 1 0]\n",
      " [0 1 0 1 0 1 0 1]\n",
      " [1 0 1 0 1 0 1 0]\n",
      " [0 1 0 1 0 1 0 1]\n",
      " [1 0 1 0 1 0 1 0]\n",
      " [0 1 0 1 0 1 0 1]\n",
      " [1 0 1 0 1 0 1 0]]\n"
     ]
    }
   ],
   "source": [
    "x = np.zeros((8,8),dtype=int)\n",
    "x[1::2,::2] = 1\n",
    "x[::2,1::2] = 1\n",
    "print(x)"
   ]
  },
  {
   "cell_type": "code",
   "execution_count": null,
   "metadata": {},
   "outputs": [],
   "source": [
    "6. Normalize a 5x5 random matrix.\n",
    "normalization formula : ((a-mean(a))/std(a))"
   ]
  },
  {
   "cell_type": "code",
   "execution_count": 20,
   "metadata": {},
   "outputs": [
    {
     "data": {
      "text/plain": [
       "array([[ 0.3332906 , -0.4594859 ,  0.71798469],\n",
       "       [-1.13431192, -0.97543087,  2.25828206],\n",
       "       [ 0.11487478,  0.04432973, -0.89953318]])"
      ]
     },
     "execution_count": 20,
     "metadata": {},
     "output_type": "execute_result"
    }
   ],
   "source": [
    "a= np.random.random((3,3))\n",
    "normzed = (a-np.mean(a))/  np.std(a)\n",
    "normzed"
   ]
  },
  {
   "cell_type": "code",
   "execution_count": null,
   "metadata": {},
   "outputs": [],
   "source": [
    "7. Given a 1D array in range(0,11), negate all elements which are between 3 and 8, in place."
   ]
  },
  {
   "cell_type": "code",
   "execution_count": 85,
   "metadata": {},
   "outputs": [],
   "source": [
    "arry = np.arange(0,11,10)\n",
    "arry"
   ]
  },
  {
   "cell_type": "code",
   "execution_count": 31,
   "metadata": {},
   "outputs": [
    {
     "data": {
      "text/plain": [
       "array([[[-3, -4, -5, -6, -7, -8]]], dtype=int64)"
      ]
     },
     "execution_count": 31,
     "metadata": {},
     "output_type": "execute_result"
    }
   ],
   "source": [
    "new = [np.where(np.logical_and(arry>=3, arry<=8))]\n",
    "np.negative(new)"
   ]
  },
  {
   "cell_type": "code",
   "execution_count": null,
   "metadata": {},
   "outputs": [],
   "source": [
    "8. How to get the dates of yesterday, today and tomorrow?"
   ]
  },
  {
   "cell_type": "code",
   "execution_count": 32,
   "metadata": {},
   "outputs": [
    {
     "name": "stdout",
     "output_type": "stream",
     "text": [
      "2020-02-13\n",
      "2020-02-14\n",
      "2020-02-15\n"
     ]
    }
   ],
   "source": [
    "from datetime import date\n",
    "from datetime import timedelta\n",
    "today=date.today()\n",
    "yesterday=today-timedelta(days=1)\n",
    "tomorrow=today+timedelta(days=1)\n",
    "print(yesterday)\n",
    "print(today)\n",
    "print(tomorrow)"
   ]
  },
  {
   "cell_type": "code",
   "execution_count": null,
   "metadata": {},
   "outputs": [],
   "source": [
    "9. Generate two arrays of size 2X4 & 3X3, find difference between them."
   ]
  },
  {
   "cell_type": "code",
   "execution_count": 36,
   "metadata": {},
   "outputs": [
    {
     "ename": "ValueError",
     "evalue": "operands could not be broadcast together with shapes (1,8) (1,9) ",
     "output_type": "error",
     "traceback": [
      "\u001b[1;31m---------------------------------------------------------------------------\u001b[0m",
      "\u001b[1;31mValueError\u001b[0m                                Traceback (most recent call last)",
      "\u001b[1;32m<ipython-input-36-7d276cacbbd2>\u001b[0m in \u001b[0;36m<module>\u001b[1;34m\u001b[0m\n\u001b[0;32m      1\u001b[0m \u001b[0mf_arry\u001b[0m \u001b[1;33m=\u001b[0m \u001b[0mnp\u001b[0m\u001b[1;33m.\u001b[0m\u001b[0mrandom\u001b[0m\u001b[1;33m.\u001b[0m\u001b[0mrandint\u001b[0m\u001b[1;33m(\u001b[0m\u001b[1;36m1\u001b[0m\u001b[1;33m,\u001b[0m\u001b[1;36m10\u001b[0m\u001b[1;33m,\u001b[0m\u001b[1;33m(\u001b[0m\u001b[1;36m2\u001b[0m\u001b[1;33m,\u001b[0m\u001b[1;36m4\u001b[0m\u001b[1;33m)\u001b[0m\u001b[1;33m)\u001b[0m\u001b[1;33m\u001b[0m\u001b[1;33m\u001b[0m\u001b[0m\n\u001b[0;32m      2\u001b[0m \u001b[0ms_arry\u001b[0m \u001b[1;33m=\u001b[0m \u001b[0mnp\u001b[0m\u001b[1;33m.\u001b[0m\u001b[0mrandom\u001b[0m\u001b[1;33m.\u001b[0m\u001b[0mrandint\u001b[0m\u001b[1;33m(\u001b[0m\u001b[1;36m1\u001b[0m\u001b[1;33m,\u001b[0m\u001b[1;36m10\u001b[0m\u001b[1;33m,\u001b[0m\u001b[1;33m(\u001b[0m\u001b[1;36m3\u001b[0m\u001b[1;33m,\u001b[0m\u001b[1;36m3\u001b[0m\u001b[1;33m)\u001b[0m\u001b[1;33m)\u001b[0m\u001b[1;33m\u001b[0m\u001b[1;33m\u001b[0m\u001b[0m\n\u001b[1;32m----> 3\u001b[1;33m \u001b[0mresult\u001b[0m\u001b[1;33m=\u001b[0m \u001b[0mf_arry\u001b[0m\u001b[1;33m.\u001b[0m\u001b[0mreshape\u001b[0m\u001b[1;33m(\u001b[0m\u001b[1;36m1\u001b[0m\u001b[1;33m,\u001b[0m\u001b[1;36m8\u001b[0m\u001b[1;33m)\u001b[0m \u001b[1;33m-\u001b[0m \u001b[0ms_arry\u001b[0m\u001b[1;33m.\u001b[0m\u001b[0mreshape\u001b[0m\u001b[1;33m(\u001b[0m\u001b[1;36m1\u001b[0m\u001b[1;33m,\u001b[0m\u001b[1;36m9\u001b[0m\u001b[1;33m)\u001b[0m\u001b[1;33m\u001b[0m\u001b[1;33m\u001b[0m\u001b[0m\n\u001b[0m",
      "\u001b[1;31mValueError\u001b[0m: operands could not be broadcast together with shapes (1,8) (1,9) "
     ]
    }
   ],
   "source": [
    "f_arry = np.random.randint(1,10,(2,4))\n",
    "s_arry = np.random.randint(1,10,(3,3))\n",
    "result= f_arry.reshape(1,8) - s_arry.reshape(1,9)\n"
   ]
  },
  {
   "cell_type": "code",
   "execution_count": null,
   "metadata": {},
   "outputs": [],
   "source": [
    "10. Given 1d array of ['cat','dog','rat'], genrate 100 elements of 1d array consisting of the above 3 value ?\n",
    "['cat','cat',...,'rat','dog','dog','cat'...]"
   ]
  },
  {
   "cell_type": "code",
   "execution_count": 86,
   "metadata": {},
   "outputs": [
    {
     "name": "stdout",
     "output_type": "stream",
     "text": [
      "Generated 100 elements are\n",
      "['dog' 'rat' 'rat' 'dog' 'cat' 'dog' 'cat' 'dog' 'cat' 'cat' 'dog' 'rat'\n",
      " 'rat' 'cat' 'rat' 'cat' 'cat' 'dog' 'cat' 'cat' 'rat' 'dog' 'dog' 'rat'\n",
      " 'rat' 'rat' 'dog' 'dog' 'rat' 'dog' 'dog' 'rat' 'dog' 'rat' 'cat' 'dog'\n",
      " 'dog' 'cat' 'rat' 'dog' 'dog' 'cat' 'rat' 'rat' 'cat' 'rat' 'cat' 'cat'\n",
      " 'dog' 'cat' 'rat' 'rat' 'dog' 'rat' 'rat' 'rat' 'rat' 'rat' 'cat' 'dog'\n",
      " 'rat' 'dog' 'dog' 'cat' 'cat' 'rat' 'cat' 'rat' 'cat' 'rat' 'cat' 'cat'\n",
      " 'cat' 'dog' 'dog' 'dog' 'cat' 'cat' 'cat' 'dog' 'dog' 'rat' 'rat' 'rat'\n",
      " 'cat' 'rat' 'dog' 'rat' 'dog' 'cat' 'dog' 'dog' 'cat' 'cat' 'rat' 'dog'\n",
      " 'rat' 'cat' 'dog' 'dog']\n"
     ]
    }
   ],
   "source": [
    "array1 = np.array(['cat', 'dog', 'rat'])\n",
    "array2 = np.random.choice(array1, size=100)\n",
    "print('Generated 100 elements are', array2, sep='\\n')"
   ]
  },
  {
   "cell_type": "code",
   "execution_count": null,
   "metadata": {},
   "outputs": [],
   "source": [
    "11. Create a vector of size 10 with values ranging from 0 to 1, both excluded without manually deducing the values"
   ]
  },
  {
   "cell_type": "code",
   "execution_count": 42,
   "metadata": {},
   "outputs": [
    {
     "name": "stdout",
     "output_type": "stream",
     "text": [
      "[0.09090909 0.18181818 0.27272727 0.36363636 0.45454545 0.54545455\n",
      " 0.63636364 0.72727273 0.81818182 0.90909091]\n"
     ]
    }
   ],
   "source": [
    "arr = np.linspace(0,1,12,endpoint=True)[1:-1]\n",
    "print(arr)"
   ]
  },
  {
   "cell_type": "code",
   "execution_count": null,
   "metadata": {},
   "outputs": [],
   "source": [
    "12. Given a two dimensional array, how to extract unique rows?"
   ]
  },
  {
   "cell_type": "code",
   "execution_count": 44,
   "metadata": {},
   "outputs": [
    {
     "name": "stdout",
     "output_type": "stream",
     "text": [
      "[[1 0 0]\n",
      " [0 1 1]\n",
      " [1 1 0]]\n",
      "[[0 1 1]\n",
      " [1 0 0]\n",
      " [1 1 0]]\n"
     ]
    }
   ],
   "source": [
    "arr=np.random.randint(0,2,(3,3))\n",
    "print(arr)\n",
    "new_arr=np.unique(arr, axis=0)\n",
    "print(new_arr)"
   ]
  },
  {
   "cell_type": "code",
   "execution_count": null,
   "metadata": {},
   "outputs": [],
   "source": [
    "13. Create a structured array with x and y coordinates covering the [0,1]x[0,1] area."
   ]
  },
  {
   "cell_type": "code",
   "execution_count": 48,
   "metadata": {},
   "outputs": [
    {
     "name": "stdout",
     "output_type": "stream",
     "text": [
      "[[(0. , 0. ) (0.5, 0. ) (1. , 0. )]\n",
      " [(0. , 0.5) (0.5, 0.5) (1. , 0.5)]\n",
      " [(0. , 1. ) (0.5, 1. ) (1. , 1. )]]\n"
     ]
    }
   ],
   "source": [
    "arry = np.zeros((3,3), [('x',float),('y',float)])\n",
    "arry['x'], arry['y'] = np.meshgrid(np.linspace(0,1,3),np.linspace(0,1,3))\n",
    "print(arry)"
   ]
  },
  {
   "cell_type": "code",
   "execution_count": null,
   "metadata": {},
   "outputs": [],
   "source": [
    "14. How to find the closest value (to a given scalar) in a vector"
   ]
  },
  {
   "cell_type": "code",
   "execution_count": 57,
   "metadata": {},
   "outputs": [
    {
     "name": "stdout",
     "output_type": "stream",
     "text": [
      "[0.41637332 0.80006808 0.62724405 0.59885192 0.78775475 0.25328239\n",
      " 0.36059609 0.68034217 0.93779347 0.12882358] value = 0.41637331539901123 0.5\n"
     ]
    }
   ],
   "source": [
    "value = 0.5\n",
    "array = np.random.random(10)\n",
    "array = np.asarray(array)\n",
    "idx = (np.abs(array - value)).argmin()\n",
    "ans = array[idx]\n",
    "print(array,\"value =\" ,ans,    value)"
   ]
  },
  {
   "cell_type": "code",
   "execution_count": null,
   "metadata": {},
   "outputs": [],
   "source": [
    "15. Consider a random vector with shape (10,2) representing coordinates, find point by point distances. Use euclidian distance."
   ]
  },
  {
   "cell_type": "code",
   "execution_count": 59,
   "metadata": {},
   "outputs": [
    {
     "name": "stdout",
     "output_type": "stream",
     "text": [
      "[[0.         0.46505032 0.40155686 0.31527944 0.21476973 0.32215443\n",
      "  0.29710342 0.1027854  0.43944893 0.21819667]\n",
      " [0.46505032 0.         0.82933018 0.42280072 0.64261836 0.61624445\n",
      "  0.20816407 0.55998364 0.81529438 0.38416671]\n",
      " [0.40155686 0.82933018 0.         0.48395457 0.19045346 0.60278058\n",
      "  0.69298656 0.30045623 0.13342313 0.61010085]\n",
      " [0.31527944 0.42280072 0.48395457 0.         0.33834728 0.63096531\n",
      "  0.39881175 0.33664798 0.4265901  0.45815903]\n",
      " [0.21476973 0.64261836 0.19045346 0.33834728 0.         0.46716899\n",
      "  0.50267964 0.11958323 0.23129394 0.42976223]\n",
      " [0.32215443 0.61624445 0.60278058 0.63096531 0.46716899 0.\n",
      "  0.40852799 0.36007534 0.69161355 0.23354281]\n",
      " [0.29710342 0.20816407 0.69298656 0.39881175 0.50267964 0.40852799\n",
      "  0.         0.39949623 0.70859655 0.17600266]\n",
      " [0.1027854  0.55998364 0.30045623 0.33664798 0.11958323 0.36007534\n",
      "  0.39949623 0.         0.35046335 0.31136646]\n",
      " [0.43944893 0.81529438 0.13342313 0.4265901  0.23129394 0.69161355\n",
      "  0.70859655 0.35046335 0.         0.65734262]\n",
      " [0.21819667 0.38416671 0.61010085 0.45815903 0.42976223 0.23354281\n",
      "  0.17600266 0.31136646 0.65734262 0.        ]]\n"
     ]
    }
   ],
   "source": [
    "a= np.random.random((10,2))\n",
    "x,y = np.atleast_2d(a[:,0], a[:,1])\n",
    "d = np.sqrt( (x-x.T)**2 + (y-y.T)**2)\n",
    "print(d)"
   ]
  },
  {
   "cell_type": "code",
   "execution_count": null,
   "metadata": {},
   "outputs": [],
   "source": [
    "16. How to sort an array by the nth column?"
   ]
  },
  {
   "cell_type": "code",
   "execution_count": 65,
   "metadata": {},
   "outputs": [
    {
     "name": "stdout",
     "output_type": "stream",
     "text": [
      "[[ 1 21  3]\n",
      " [ 5  4  2]\n",
      " [56 12  4]]\n",
      "[[ 5  4  2]\n",
      " [ 1 21  3]\n",
      " [56 12  4]]\n"
     ]
    }
   ],
   "source": [
    "arr = np.array([[1,21,3],[5,4,2],[56,12,4]])\n",
    "arr1 = arr[arr[:,2].argsort()]\n",
    "print(arr)\n",
    "print(arr1)"
   ]
  },
  {
   "cell_type": "code",
   "execution_count": null,
   "metadata": {},
   "outputs": [],
   "source": [
    "17.How to tell if a given 2D array has null columns?"
   ]
  },
  {
   "cell_type": "code",
   "execution_count": 72,
   "metadata": {},
   "outputs": [
    {
     "name": "stdout",
     "output_type": "stream",
     "text": [
      "True\n"
     ]
    }
   ],
   "source": [
    "Z = np.random.randint(0,3,(3,10)).astype(float)\n",
    "Z[:,0] = np.nan\n",
    "G = np.isnan(Z)\n",
    "print((G.all(axis=0)).any())"
   ]
  },
  {
   "cell_type": "code",
   "execution_count": null,
   "metadata": {},
   "outputs": [],
   "source": [
    "18. Considering a two dimensions array, how to get sum over the last two columns at once?"
   ]
  },
  {
   "cell_type": "code",
   "execution_count": 80,
   "metadata": {
    "scrolled": true
   },
   "outputs": [
    {
     "name": "stdout",
     "output_type": "stream",
     "text": [
      "[[3 5 1 1 8]\n",
      " [1 8 7 3 1]\n",
      " [7 5 7 7 1]\n",
      " [4 6 6 3 4]\n",
      " [7 8 1 4 6]]\n",
      "38\n"
     ]
    }
   ],
   "source": [
    "arry= np.random.randint(1,10,(5,5))\n",
    "print(arry)\n",
    "print(np.sum(arry[0:,3:]))"
   ]
  },
  {
   "cell_type": "code",
   "execution_count": null,
   "metadata": {},
   "outputs": [],
   "source": [
    "19. Given a 2d array of 5X5, increment 1st column by 1, second column by 2, 3rd column by 3 & so on till the last column"
   ]
  },
  {
   "cell_type": "code",
   "execution_count": null,
   "metadata": {},
   "outputs": [],
   "source": [
    "arry= np.random.randint(1,100,(5,5))\n",
    "print(arry)\n"
   ]
  }
 ],
 "metadata": {
  "kernelspec": {
   "display_name": "Python 3",
   "language": "python",
   "name": "python3"
  },
  "language_info": {
   "codemirror_mode": {
    "name": "ipython",
    "version": 3
   },
   "file_extension": ".py",
   "mimetype": "text/x-python",
   "name": "python",
   "nbconvert_exporter": "python",
   "pygments_lexer": "ipython3",
   "version": "3.7.4"
  }
 },
 "nbformat": 4,
 "nbformat_minor": 2
}
