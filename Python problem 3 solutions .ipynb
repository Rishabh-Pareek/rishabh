{
 "cells": [
  {
   "cell_type": "code",
   "execution_count": null,
   "metadata": {},
   "outputs": [],
   "source": [
    "1. Find dot product of two arrays.\n",
    "a = [2j, 3j],\n",
    "\n",
    "b = [2j, 3j]\n",
    "\n",
    "Level: Easy"
   ]
  },
  {
   "cell_type": "code",
   "execution_count": 3,
   "metadata": {},
   "outputs": [
    {
     "data": {
      "text/plain": [
       "(-13+0j)"
      ]
     },
     "execution_count": 3,
     "metadata": {},
     "output_type": "execute_result"
    }
   ],
   "source": [
    "import numpy as np\n",
    "\n",
    "a = [2j, 3j]\n",
    "b = [2j, 3j]\n",
    "a = np.array(a)\n",
    "b = np.array(b)\n",
    "a.dot(b)"
   ]
  },
  {
   "cell_type": "code",
   "execution_count": null,
   "metadata": {},
   "outputs": [],
   "source": [
    "2. Create two arrays of 2-D and find dot product of it."
   ]
  },
  {
   "cell_type": "code",
   "execution_count": 4,
   "metadata": {},
   "outputs": [
    {
     "data": {
      "text/plain": [
       "array([[ 7666, 10265,  8879],\n",
       "       [ 7488,  6973,  5004],\n",
       "       [13368, 17801, 13776]])"
      ]
     },
     "execution_count": 4,
     "metadata": {},
     "output_type": "execute_result"
    }
   ],
   "source": [
    "a = np.random.randint(1,100,(3,3))\n",
    "b = np.random.randint(1,100,(3,3))\n",
    "a.dot(b)"
   ]
  },
  {
   "cell_type": "code",
   "execution_count": null,
   "metadata": {},
   "outputs": [],
   "source": [
    "3. Find vector product of given array.\n",
    "a = np.array([1+2j,3+4j])\n",
    "\n",
    "b = np.array([5+6j,7+8j])\n",
    "\n",
    "Level: Easy"
   ]
  },
  {
   "cell_type": "code",
   "execution_count": 5,
   "metadata": {},
   "outputs": [
    {
     "name": "stdout",
     "output_type": "stream",
     "text": [
      "-16j\n",
      "(70-8j)\n"
     ]
    }
   ],
   "source": [
    "a = np.array([1+2j,3+4j])\n",
    "\n",
    "b = np.array([5+6j,7+8j])\n",
    "\n",
    "print(np.cross(a,b))\n",
    "print(np.vdot(a,b))"
   ]
  },
  {
   "cell_type": "code",
   "execution_count": 6,
   "metadata": {},
   "outputs": [
    {
     "name": "stdout",
     "output_type": "stream",
     "text": [
      "[[37 47 65]\n",
      " [81 74 35]\n",
      " [82 26  8]]\n"
     ]
    }
   ],
   "source": [
    "a=np.random.randint(100,size=(3,3))\n",
    "print(a)"
   ]
  },
  {
   "cell_type": "code",
   "execution_count": null,
   "metadata": {},
   "outputs": [],
   "source": [
    "4. FIrst create given array withound using direct value insted use numpy utlities and then find inner product for given array.\n",
    "a = [[ 0 1 2 3] [ 4 5 6 7] [ 8 9 10 11]]\n",
    "\n",
    "b = [[12 13 14 15] [16 17 18 19] [20 21 22 23]]\n",
    "\n",
    "Level: Easy"
   ]
  },
  {
   "cell_type": "code",
   "execution_count": 7,
   "metadata": {},
   "outputs": [
    {
     "name": "stdout",
     "output_type": "stream",
     "text": [
      "[[ 0.  1.  2.]\n",
      " [ 3.  4.  5.]\n",
      " [ 6.  7.  8.]\n",
      " [ 9. 10. 11.]]\n",
      "[[12. 13. 14.]\n",
      " [15. 16. 17.]\n",
      " [18. 19. 20.]\n",
      " [21. 22. 23.]]\n"
     ]
    }
   ],
   "source": [
    "a = np.linspace(0,11,12)\n",
    "b = np.linspace(12,23,12)\n",
    "a = a.reshape(4,3)\n",
    "b = b.reshape(4,3)\n",
    "print(a)\n",
    "print(b)"
   ]
  },
  {
   "cell_type": "code",
   "execution_count": 8,
   "metadata": {},
   "outputs": [
    {
     "data": {
      "text/plain": [
       "array([[ 41.,  50.,  59.,  68.],\n",
       "       [158., 194., 230., 266.],\n",
       "       [275., 338., 401., 464.],\n",
       "       [392., 482., 572., 662.]])"
      ]
     },
     "execution_count": 8,
     "metadata": {},
     "output_type": "execute_result"
    }
   ],
   "source": [
    "np.inner(a,b)"
   ]
  },
  {
   "cell_type": "code",
   "execution_count": null,
   "metadata": {},
   "outputs": [],
   "source": [
    "5. Using given two array try to print out 3rd given array.\n",
    "a = np.array(['a', 'b', 'c'], dtype=object) b = np.array([1,2,3])\n",
    "\n",
    "output = [['a', 'aa', 'aaa'], ['b', 'bb', 'bbb'], ['c', 'cc', 'ccc']]\n",
    "\n",
    "Level: Medium"
   ]
  },
  {
   "cell_type": "code",
   "execution_count": 16,
   "metadata": {},
   "outputs": [
    {
     "data": {
      "text/plain": [
       "array([['a', 'aa', 'aaa'],\n",
       "       ['b', 'bb', 'bbb'],\n",
       "       ['c', 'cc', 'ccc']], dtype=object)"
      ]
     },
     "execution_count": 16,
     "metadata": {},
     "output_type": "execute_result"
    }
   ],
   "source": [
    "first_a = np.array(['a', 'b', 'c'], dtype=object) \n",
    "second_a = np.array([1,2,3])\n",
    "# assin = np.multiply(second_a,first_a)\n",
    "third= first_a.reshape(3,1)*second_a.reshape(1,3)\n",
    "third"
   ]
  },
  {
   "cell_type": "code",
   "execution_count": null,
   "metadata": {},
   "outputs": [],
   "source": [
    "6. Solve the system of equations 3 x0 + x1 = 9 and x0 + 2 x1 = 8\n",
    "Level: Medium"
   ]
  },
  {
   "cell_type": "code",
   "execution_count": 19,
   "metadata": {},
   "outputs": [
    {
     "data": {
      "text/plain": [
       "array([2., 3.])"
      ]
     },
     "execution_count": 19,
     "metadata": {},
     "output_type": "execute_result"
    }
   ],
   "source": [
    "f_equ = np.array([[3,1],[1,2]])\n",
    "s_eque = np.array([9,8])\n",
    "np.linalg.solve(f_equ,s_eque)"
   ]
  },
  {
   "cell_type": "code",
   "execution_count": null,
   "metadata": {},
   "outputs": [],
   "source": [
    "7. Check the following solution is right or wrong uisng numpy utilities.\n",
    "2x+3y=8 3x+y=5\n",
    "\n",
    "solution: x=1 , y=2\n",
    "\n",
    "Level : Medium"
   ]
  },
  {
   "cell_type": "code",
   "execution_count": 22,
   "metadata": {},
   "outputs": [
    {
     "data": {
      "text/plain": [
       "array([1., 2.])"
      ]
     },
     "execution_count": 22,
     "metadata": {},
     "output_type": "execute_result"
    }
   ],
   "source": [
    "first_e = np.array([[2,3],[3,1]])\n",
    "second_e = np.array([8,5])\n",
    "np.linalg.solve(first_e,second_e)"
   ]
  },
  {
   "cell_type": "code",
   "execution_count": null,
   "metadata": {},
   "outputs": [],
   "source": [
    "9. Write a program to add two arrays of different shape.\n",
    "Hint: Broadcasting\n",
    "\n",
    "Level: Medium\n",
    "\n",
    "sample input:\n",
    "\n",
    "a=[0.0,10.0,20.0,30.0]\n",
    "\n",
    "b=[1.0,2.0,3.0]\n",
    "\n",
    "output:\n",
    "\n",
    "[[ 1., 2., 3.],\n",
    "\n",
    "[ 11., 12., 13.],\n",
    "\n",
    "[ 21., 22., 23.],\n",
    "\n",
    "[ 31., 32., 33.]]"
   ]
  },
  {
   "cell_type": "code",
   "execution_count": 23,
   "metadata": {},
   "outputs": [
    {
     "data": {
      "text/plain": [
       "array([[ 1,  2,  3],\n",
       "       [11, 12, 13],\n",
       "       [21, 22, 23],\n",
       "       [31, 32, 33]])"
      ]
     },
     "execution_count": 23,
     "metadata": {},
     "output_type": "execute_result"
    }
   ],
   "source": [
    "a = np.array([0,10,20,30])\n",
    "b = np.array([1,2,3])\n",
    "a.reshape(4,1) + b.reshape(1,3)"
   ]
  },
  {
   "cell_type": "code",
   "execution_count": null,
   "metadata": {},
   "outputs": [],
   "source": [
    "10. Create a 3 * 3 array find it's diagonal using numpy utilities.¶\n",
    "Level: Hard"
   ]
  },
  {
   "cell_type": "code",
   "execution_count": 25,
   "metadata": {},
   "outputs": [
    {
     "data": {
      "text/plain": [
       "array([7, 2, 4])"
      ]
     },
     "execution_count": 25,
     "metadata": {},
     "output_type": "execute_result"
    }
   ],
   "source": [
    "data = np.random.randint(1,10,(3,3))\n",
    "digonal = np.diagonal(data)\n",
    "digonal"
   ]
  },
  {
   "cell_type": "code",
   "execution_count": null,
   "metadata": {},
   "outputs": [],
   "source": [
    "11. Now find anti - diagonal in previous question using horizontal and vector flip.\n",
    "Level: Hard"
   ]
  },
  {
   "cell_type": "code",
   "execution_count": null,
   "metadata": {},
   "outputs": [],
   "source": []
  },
  {
   "cell_type": "code",
   "execution_count": null,
   "metadata": {},
   "outputs": [],
   "source": [
    "12. Create given array without using indexing.\n",
    "a = [[4, 0, 0], [0, 4, 0], [0, 0, 4], [0, 0, 0], [4, 0, 0], [0, 4, 0], [0, 0, 4]]\n",
    "\n",
    "Level : Hard"
   ]
  },
  {
   "cell_type": "code",
   "execution_count": 26,
   "metadata": {},
   "outputs": [
    {
     "data": {
      "text/plain": [
       "array([[4., 0., 0.],\n",
       "       [0., 4., 0.],\n",
       "       [0., 0., 4.],\n",
       "       [0., 0., 0.],\n",
       "       [4., 0., 0.],\n",
       "       [0., 4., 0.],\n",
       "       [0., 0., 4.]])"
      ]
     },
     "execution_count": 26,
     "metadata": {},
     "output_type": "execute_result"
    }
   ],
   "source": [
    "arr = np.identity(3)*4\n",
    "zeros = np.zeros(3)\n",
    "np.vstack([arr,zeros,arr])"
   ]
  },
  {
   "cell_type": "code",
   "execution_count": null,
   "metadata": {},
   "outputs": [],
   "source": []
  }
 ],
 "metadata": {
  "kernelspec": {
   "display_name": "Python 3",
   "language": "python",
   "name": "python3"
  },
  "language_info": {
   "codemirror_mode": {
    "name": "ipython",
    "version": 3
   },
   "file_extension": ".py",
   "mimetype": "text/x-python",
   "name": "python",
   "nbconvert_exporter": "python",
   "pygments_lexer": "ipython3",
   "version": "3.7.4"
  }
 },
 "nbformat": 4,
 "nbformat_minor": 2
}
