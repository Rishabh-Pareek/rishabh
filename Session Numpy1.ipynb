{
 "cells": [
  {
   "cell_type": "code",
   "execution_count": null,
   "metadata": {},
   "outputs": [],
   "source": [
    "1. Write a NumPy program to get the numpy version and show numpy build configuration.\n",
    "Level: Easy"
   ]
  },
  {
   "cell_type": "code",
   "execution_count": 2,
   "metadata": {},
   "outputs": [
    {
     "name": "stdout",
     "output_type": "stream",
     "text": [
      "1.16.5\n",
      "<module 'numpy.__config__' from 'C:\\\\ProgramData\\\\Anaconda3\\\\lib\\\\site-packages\\\\numpy\\\\__config__.py'>\n"
     ]
    }
   ],
   "source": [
    "import numpy as np\n",
    "\n",
    "print(np.version.version)\n",
    "print(np.__config__)"
   ]
  },
  {
   "cell_type": "code",
   "execution_count": null,
   "metadata": {},
   "outputs": [],
   "source": [
    "2. Create a null vector of size 10 but the fifth value which is 1.\n",
    "Level: Easy"
   ]
  },
  {
   "cell_type": "code",
   "execution_count": 3,
   "metadata": {},
   "outputs": [
    {
     "name": "stdout",
     "output_type": "stream",
     "text": [
      "[0. 0. 0. 0. 1. 0. 0. 0. 0. 0.]\n"
     ]
    }
   ],
   "source": [
    "ten_zeroes = np.zeros(10)\n",
    "ten_zeroes[4] = 1\n",
    "print(ten_zeroes)"
   ]
  },
  {
   "cell_type": "code",
   "execution_count": null,
   "metadata": {},
   "outputs": [],
   "source": [
    "Create a vector with values ranging from 10 to 49.\n",
    "Level: Easy"
   ]
  },
  {
   "cell_type": "code",
   "execution_count": 4,
   "metadata": {},
   "outputs": [
    {
     "name": "stdout",
     "output_type": "stream",
     "text": [
      "[10 11 12 13 14 15 16 17 18 19 20 21 22 23 24 25 26 27 28 29 30 31 32 33\n",
      " 34 35 36 37 38 39 40 41 42 43 44 45 46 47 48 49]\n"
     ]
    }
   ],
   "source": [
    "ten_fortynine = np.arange(10,50)\n",
    "print(ten_fortynine)"
   ]
  },
  {
   "cell_type": "code",
   "execution_count": null,
   "metadata": {},
   "outputs": [],
   "source": [
    "3. create two arrays and stack them vertically\n",
    "Level: Easy"
   ]
  },
  {
   "cell_type": "code",
   "execution_count": 7,
   "metadata": {},
   "outputs": [
    {
     "name": "stdout",
     "output_type": "stream",
     "text": [
      "[[1 2 3 4 5 6 7 8 9]\n",
      " [1 2 3 4 5 6 7 8 9]]\n"
     ]
    }
   ],
   "source": [
    "first_array = np.arange(1,10)\n",
    "second_array = np.arange(1,10)\n",
    "stack_v =np.vstack([first_array,second_array])\n",
    "print(stack_v)\n"
   ]
  },
  {
   "cell_type": "code",
   "execution_count": null,
   "metadata": {},
   "outputs": [],
   "source": [
    "4. Reverse a vector (first element becomes last).\n",
    "Level: Easy"
   ]
  },
  {
   "cell_type": "code",
   "execution_count": 8,
   "metadata": {},
   "outputs": [
    {
     "name": "stdout",
     "output_type": "stream",
     "text": [
      "[4 3 2 1 0]\n"
     ]
    }
   ],
   "source": [
    "rev_vec = np.arange(5)\n",
    "print(rev_vec[::-1])"
   ]
  },
  {
   "cell_type": "code",
   "execution_count": null,
   "metadata": {},
   "outputs": [],
   "source": [
    "5. Create a 3x3 matrix with values ranging from 0 to 8\n",
    "Level: Easy"
   ]
  },
  {
   "cell_type": "code",
   "execution_count": 13,
   "metadata": {},
   "outputs": [],
   "source": [
    "data=np.random.randint(0,9,(3,3))"
   ]
  },
  {
   "cell_type": "code",
   "execution_count": 14,
   "metadata": {},
   "outputs": [
    {
     "data": {
      "text/plain": [
       "array([[7, 0, 2],\n",
       "       [3, 1, 4],\n",
       "       [7, 2, 2]])"
      ]
     },
     "execution_count": 14,
     "metadata": {},
     "output_type": "execute_result"
    }
   ],
   "source": [
    "data"
   ]
  },
  {
   "cell_type": "code",
   "execution_count": null,
   "metadata": {},
   "outputs": [],
   "source": [
    "6. Find indices of non-zero elements from [1,2,0,0,4,0]\n",
    "Level: Easy"
   ]
  },
  {
   "cell_type": "code",
   "execution_count": 19,
   "metadata": {},
   "outputs": [
    {
     "data": {
      "text/plain": [
       "(array([0, 1, 4], dtype=int64),)"
      ]
     },
     "execution_count": 19,
     "metadata": {},
     "output_type": "execute_result"
    }
   ],
   "source": [
    "arr_in = np.array([1,2,0,0,4,0])\n",
    "np.nonzero(arr_in)"
   ]
  },
  {
   "cell_type": "code",
   "execution_count": null,
   "metadata": {},
   "outputs": [],
   "source": [
    "7. Create a 10x10 array with random values and find the minimum and maximum values."
   ]
  },
  {
   "cell_type": "code",
   "execution_count": 29,
   "metadata": {},
   "outputs": [
    {
     "name": "stdout",
     "output_type": "stream",
     "text": [
      "[[591 271 965 976 583 121   3 748 920 204]\n",
      " [874  41 734 663 910 482 756 661  66 873]\n",
      " [939 413 779 522 850 590 982 863 192 390]\n",
      " [621 868 851 128 118 673 817 936 286 969]\n",
      " [937  36  79 127 209 263 171 559 915 600]\n",
      " [308 107 592 348 280 398 505 851 221 208]\n",
      " [435  70 188 286 692 391 733 326 373 560]\n",
      " [158 106 955 888 376 985 930 939  94 604]\n",
      " [638 516 246 669 891 182 484 259 867 804]\n",
      " [568 106 239  97 802 111 457 243 530 557]]\n"
     ]
    },
    {
     "data": {
      "text/plain": [
       "985"
      ]
     },
     "execution_count": 29,
     "metadata": {},
     "output_type": "execute_result"
    }
   ],
   "source": [
    "data  =  np.random.randint(1,1000,(10,10))\n",
    "print(data)\n",
    "# numpy.amax()\n",
    "# numpy.amin()\n",
    "np.amax(data)"
   ]
  },
  {
   "cell_type": "code",
   "execution_count": 30,
   "metadata": {},
   "outputs": [
    {
     "data": {
      "text/plain": [
       "3"
      ]
     },
     "execution_count": 30,
     "metadata": {},
     "output_type": "execute_result"
    }
   ],
   "source": [
    "np.amin(data)"
   ]
  },
  {
   "cell_type": "code",
   "execution_count": null,
   "metadata": {},
   "outputs": [],
   "source": [
    "8. Create a random vector of size 30 and find the mean value.\n",
    "Level: Medium"
   ]
  },
  {
   "cell_type": "code",
   "execution_count": 38,
   "metadata": {},
   "outputs": [
    {
     "data": {
      "text/plain": [
       "array([[42, 17, 60, 99,  2, 49, 53, 40, 28, 96, 30, 30, 87, 80,  6, 87,\n",
       "        47, 33, 25, 75, 22, 56, 67, 12, 46, 73, 48, 52, 27, 55]])"
      ]
     },
     "execution_count": 38,
     "metadata": {},
     "output_type": "execute_result"
    }
   ],
   "source": [
    "vector=np.random.randint(1,100,(1,30,))\n",
    "vector"
   ]
  },
  {
   "cell_type": "code",
   "execution_count": 36,
   "metadata": {},
   "outputs": [
    {
     "data": {
      "text/plain": [
       "45.833333333333336"
      ]
     },
     "execution_count": 36,
     "metadata": {},
     "output_type": "execute_result"
    }
   ],
   "source": [
    "np.sum(vector)/30#mean"
   ]
  },
  {
   "cell_type": "code",
   "execution_count": null,
   "metadata": {},
   "outputs": [],
   "source": [
    "9. Create a 2d array with 1 on the border and 0 inside\n",
    "Level: Medium"
   ]
  },
  {
   "cell_type": "code",
   "execution_count": 100,
   "metadata": {},
   "outputs": [
    {
     "name": "stdout",
     "output_type": "stream",
     "text": [
      "[[1. 1. 1. 1. 1. 1. 1. 1. 1. 1.]\n",
      " [1. 1. 1. 1. 1. 1. 1. 1. 1. 1.]\n",
      " [1. 1. 1. 1. 1. 1. 1. 1. 1. 1.]\n",
      " [1. 1. 1. 1. 1. 1. 1. 1. 1. 1.]\n",
      " [1. 1. 1. 1. 1. 1. 1. 1. 1. 1.]\n",
      " [1. 1. 1. 1. 1. 1. 1. 1. 1. 1.]\n",
      " [1. 1. 1. 1. 1. 1. 1. 1. 1. 1.]\n",
      " [1. 1. 1. 1. 1. 1. 1. 1. 1. 1.]\n",
      " [1. 1. 1. 1. 1. 1. 1. 1. 1. 1.]\n",
      " [1. 1. 1. 1. 1. 1. 1. 1. 1. 1.]]\n"
     ]
    }
   ],
   "source": [
    "oneborder = np.ones((10,10))\n",
    "oneborder[1:-1, 1:-1] = 0\n",
    "print(oneborder)"
   ]
  },
  {
   "cell_type": "code",
   "execution_count": null,
   "metadata": {},
   "outputs": [],
   "source": [
    "10. How to add a border (filled with 0's) around an existing array\n",
    "Level: Medium"
   ]
  },
  {
   "cell_type": "code",
   "execution_count": 105,
   "metadata": {},
   "outputs": [
    {
     "name": "stdout",
     "output_type": "stream",
     "text": [
      "[[0. 0. 0. 0. 0. 0. 0. 0. 0. 0.]\n",
      " [0. 4. 4. 4. 4. 4. 4. 4. 4. 0.]\n",
      " [0. 4. 4. 4. 4. 4. 4. 4. 4. 0.]\n",
      " [0. 4. 4. 4. 4. 4. 4. 4. 4. 0.]\n",
      " [0. 4. 4. 4. 4. 4. 4. 4. 4. 0.]\n",
      " [0. 4. 4. 4. 4. 4. 4. 4. 4. 0.]\n",
      " [0. 4. 4. 4. 4. 4. 4. 4. 4. 0.]\n",
      " [0. 4. 4. 4. 4. 4. 4. 4. 4. 0.]\n",
      " [0. 4. 4. 4. 4. 4. 4. 4. 4. 0.]\n",
      " [0. 0. 0. 0. 0. 0. 0. 0. 0. 0.]]\n"
     ]
    }
   ],
   "source": [
    "# a = np.random.randint(1,9,(10,10))\n",
    "# a[0:9,]\n",
    "data=np.zeros((10,10))\n",
    "data[1:-1,1:-1]=np.random.randint(1,10)\n",
    "print(data)"
   ]
  },
  {
   "cell_type": "code",
   "execution_count": null,
   "metadata": {},
   "outputs": [],
   "source": [
    "11. Create a 5x5 matrix with values 1,2,3,4 just below the diagonal¶\n",
    "#[[ 0. 0. 0. 0. 0.] [ 1. 0. 0. 0. 0.] [ 0. 2. 0. 0. 0.] [ 0. 0. 3. 0. 0.] [ 0. 0. 0. 4. 0.]]"
   ]
  },
  {
   "cell_type": "code",
   "execution_count": 120,
   "metadata": {},
   "outputs": [
    {
     "name": "stdout",
     "output_type": "stream",
     "text": [
      "[[0. 0. 0. 0. 0.]\n",
      " [1. 0. 0. 0. 0.]\n",
      " [0. 2. 0. 0. 0.]\n",
      " [0. 0. 3. 0. 0.]\n",
      " [0. 0. 0. 4. 0.]]\n"
     ]
    }
   ],
   "source": [
    "nanu = np.zeros((5,5))\n",
    "nanu[1:2,:1]=1\n",
    "nanu[2:3,1:2]=2\n",
    "nanu[3:4,2:3]=3\n",
    "nanu[4:5,3:4]=4\n",
    "print(nanu)"
   ]
  },
  {
   "cell_type": "code",
   "execution_count": null,
   "metadata": {},
   "outputs": [],
   "source": [
    "12. Create a 5*5 matrix with random values and normalize it.\n",
    "Level: Medium"
   ]
  },
  {
   "cell_type": "code",
   "execution_count": 127,
   "metadata": {},
   "outputs": [
    {
     "name": "stdout",
     "output_type": "stream",
     "text": [
      "[[0.21111111 0.44444444 0.27777778 1.         0.14444444]\n",
      " [0.27777778 0.93333333 0.55555556 0.74444444 0.32222222]\n",
      " [0.81111111 0.3        0.         0.33333333 0.02222222]\n",
      " [0.88888889 0.2        0.5        0.17777778 0.94444444]\n",
      " [0.16666667 0.33333333 0.11111111 0.6        1.        ]]\n"
     ]
    }
   ],
   "source": [
    "mt = np.random.randint(1,100,(5,5))\n",
    "mxval= mt.max()\n",
    "\n",
    "mival = mt.min()\n",
    "\n",
    "new= (mt-mival)/(mxval-mival)\n",
    "print(new)"
   ]
  },
  {
   "cell_type": "code",
   "execution_count": null,
   "metadata": {},
   "outputs": [],
   "source": [
    "13. How to find common values between two arrays\n",
    "Level: Medium"
   ]
  },
  {
   "cell_type": "code",
   "execution_count": 132,
   "metadata": {},
   "outputs": [
    {
     "name": "stdout",
     "output_type": "stream",
     "text": [
      "[1 4 5]\n"
     ]
    }
   ],
   "source": [
    "first = np.array([1,2,4,5])\n",
    "second = np.array([1,4,5,9])\n",
    "print(np.intersect1d(first,second))\n"
   ]
  },
  {
   "cell_type": "code",
   "execution_count": null,
   "metadata": {},
   "outputs": [],
   "source": [
    "14. Consider a generator function that generates 10 integers and use it to build an array\n",
    "Level: Medium"
   ]
  },
  {
   "cell_type": "code",
   "execution_count": 140,
   "metadata": {},
   "outputs": [
    {
     "name": "stdout",
     "output_type": "stream",
     "text": [
      "[ 1.  2.  3.  4.  5.  6.  7.  8.  9. 10.]\n"
     ]
    }
   ],
   "source": [
    "def generate(): \n",
    "    for i in range(1,11):\n",
    "        yield i\n",
    "        \n",
    "arr = np.fromiter(generate(),dtype=float)\n",
    "print (arr)"
   ]
  },
  {
   "cell_type": "code",
   "execution_count": null,
   "metadata": {},
   "outputs": [],
   "source": [
    "15. Subtract the mean of each row of a matrix\n",
    "Level: Hard"
   ]
  },
  {
   "cell_type": "code",
   "execution_count": 146,
   "metadata": {},
   "outputs": [
    {
     "name": "stdout",
     "output_type": "stream",
     "text": [
      "[[0.44795804 0.75321719 0.99099932 0.39808709 0.29726031]\n",
      " [0.12037089 0.04034474 0.77234913 0.72724702 0.55743142]\n",
      " [0.78107178 0.39141097 0.96658587 0.32852349 0.01062971]\n",
      " [0.51280006 0.68191149 0.88100292 0.8439078  0.55865214]\n",
      " [0.74238489 0.87508638 0.06750799 0.8842236  0.10649084]]\n",
      "[[-0.12954635  0.1757128   0.41349493 -0.1794173  -0.28024408]\n",
      " [-0.32317775 -0.4032039   0.32880048  0.28369838  0.11388278]\n",
      " [ 0.28542741 -0.10423339  0.47094151 -0.16712087 -0.48501465]\n",
      " [-0.18285482 -0.01374339  0.18534804  0.14825292 -0.13700274]\n",
      " [ 0.20724615  0.33994764 -0.46763075  0.34908486 -0.4286479 ]]\n"
     ]
    }
   ],
   "source": [
    "X = np.random.rand(5,5)\n",
    "print(X)\n",
    "Y = X - X.mean(axis=1, keepdims=True)\n",
    "print(Y)\n",
    "Y = X - X.mean(axis=1).reshape(-1, 1)\n"
   ]
  },
  {
   "cell_type": "code",
   "execution_count": null,
   "metadata": {},
   "outputs": [],
   "source": [
    "16. Considering two arrays with shape (1,3) and (3,1), how to compute their sum using an iterator?"
   ]
  },
  {
   "cell_type": "code",
   "execution_count": 149,
   "metadata": {},
   "outputs": [],
   "source": [
    "frst = np.array([0,1,2])\n",
    "scnd = np.random.randint(1,5,(3,1))\n"
   ]
  },
  {
   "cell_type": "code",
   "execution_count": null,
   "metadata": {},
   "outputs": [],
   "source": [
    "17. Write a NumPy program to create a vector of length 10 with values evenly distributed between 5 and 50.\n",
    "Le"
   ]
  },
  {
   "cell_type": "code",
   "execution_count": 147,
   "metadata": {},
   "outputs": [
    {
     "name": "stdout",
     "output_type": "stream",
     "text": [
      "[ 6.  8. 10. 12. 14. 16. 18. 20. 22. 24. 26. 28. 30. 32. 34. 36. 38. 40.\n",
      " 42. 44. 46. 48. 50.]\n"
     ]
    }
   ],
   "source": [
    "def generator():\n",
    "    for i in range(5,51):\n",
    "        if i%2==0:\n",
    "            yield i\n",
    "arr=np.fromiter(generator(),dtype=float)\n",
    "print(arr)"
   ]
  },
  {
   "cell_type": "code",
   "execution_count": null,
   "metadata": {},
   "outputs": [],
   "source": []
  }
 ],
 "metadata": {
  "kernelspec": {
   "display_name": "Python 3",
   "language": "python",
   "name": "python3"
  },
  "language_info": {
   "codemirror_mode": {
    "name": "ipython",
    "version": 3
   },
   "file_extension": ".py",
   "mimetype": "text/x-python",
   "name": "python",
   "nbconvert_exporter": "python",
   "pygments_lexer": "ipython3",
   "version": "3.7.4"
  }
 },
 "nbformat": 4,
 "nbformat_minor": 2
}
