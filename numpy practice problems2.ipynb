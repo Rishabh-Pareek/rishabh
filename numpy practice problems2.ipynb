{
 "cells": [
  {
   "cell_type": "code",
   "execution_count": null,
   "metadata": {},
   "outputs": [],
   "source": [
    "1. Create an array and find sum of it.\n",
    "Level: Easy"
   ]
  },
  {
   "cell_type": "code",
   "execution_count": 19,
   "metadata": {},
   "outputs": [
    {
     "data": {
      "text/plain": [
       "49"
      ]
     },
     "execution_count": 19,
     "metadata": {},
     "output_type": "execute_result"
    }
   ],
   "source": [
    "arry = np.random.randint(1,11,(1,11))\n",
    "sum_a = np.sum(arry)\n",
    "sum_a"
   ]
  },
  {
   "cell_type": "code",
   "execution_count": null,
   "metadata": {},
   "outputs": [],
   "source": [
    "2. Find sin of given array.\n",
    "Level: Easy"
   ]
  },
  {
   "cell_type": "code",
   "execution_count": 20,
   "metadata": {},
   "outputs": [
    {
     "data": {
      "text/plain": [
       "array([ 0.84147098,  0.90929743,  0.14112001, -0.7568025 , -0.95892427])"
      ]
     },
     "execution_count": 20,
     "metadata": {},
     "output_type": "execute_result"
    }
   ],
   "source": [
    "ary = np.array([1,2,3,4,5])\n",
    "sin_a = np.sin(ary)\n",
    "sin_a"
   ]
  },
  {
   "cell_type": "code",
   "execution_count": null,
   "metadata": {},
   "outputs": [],
   "source": [
    "3. Find mean of matrix along row and column.\n",
    "Level: Easy"
   ]
  },
  {
   "cell_type": "code",
   "execution_count": 26,
   "metadata": {},
   "outputs": [
    {
     "name": "stdout",
     "output_type": "stream",
     "text": [
      "[ 6.5 19.5] [16. 10.]\n"
     ]
    }
   ],
   "source": [
    "data = np.random.randint(1,50,(2,2))\n",
    "row_mean = data.mean(axis=1)\n",
    "col_mean = data.mean(axis=0)\n",
    "print(row_mean,col_mean)"
   ]
  },
  {
   "cell_type": "code",
   "execution_count": null,
   "metadata": {},
   "outputs": [],
   "source": [
    "4. Find standard deviation of given array.\n",
    "Level: Easy"
   ]
  },
  {
   "cell_type": "code",
   "execution_count": 29,
   "metadata": {},
   "outputs": [
    {
     "data": {
      "text/plain": [
       "3.138470965295043"
      ]
     },
     "execution_count": 29,
     "metadata": {},
     "output_type": "execute_result"
    }
   ],
   "source": [
    "arry = np.random.randint(1,15,(1,10))\n",
    "s_d = np.std(arry)\n",
    "s_d"
   ]
  },
  {
   "cell_type": "code",
   "execution_count": null,
   "metadata": {},
   "outputs": [],
   "source": [
    "5. Create a 3*3 matrix and print it's transpose matrix\n",
    "Level: Easy"
   ]
  },
  {
   "cell_type": "code",
   "execution_count": 33,
   "metadata": {},
   "outputs": [
    {
     "name": "stdout",
     "output_type": "stream",
     "text": [
      "[[7 2 1]\n",
      " [1 2 8]\n",
      " [2 3 3]]\n",
      "[[7 1 2]\n",
      " [2 2 3]\n",
      " [1 8 3]]\n"
     ]
    }
   ],
   "source": [
    "mat = np.random.randint(1,10,(3,3))\n",
    "mat1 =mat.transpose()\n",
    "print(mat)\n",
    "print(mat1)"
   ]
  },
  {
   "cell_type": "code",
   "execution_count": null,
   "metadata": {},
   "outputs": [],
   "source": [
    "6. Create an array of 3*3 and find index of max along both axis.¶\n",
    "Level: Medium"
   ]
  },
  {
   "cell_type": "code",
   "execution_count": 36,
   "metadata": {},
   "outputs": [
    {
     "name": "stdout",
     "output_type": "stream",
     "text": [
      "[[12 24 18]\n",
      " [45 14 26]\n",
      " [13 38 47]]\n",
      "(array([2], dtype=int64), array([2], dtype=int64))\n"
     ]
    }
   ],
   "source": [
    "matrix = np.random.randint(1,50,(3,3))\n",
    "print(matrix)\n",
    "max_val = matrix.max()\n",
    "idx = np.where(matrix == max_val)\n",
    "print(idx)"
   ]
  },
  {
   "cell_type": "code",
   "execution_count": null,
   "metadata": {},
   "outputs": [],
   "source": [
    "7. find sum of two matrix.\n",
    "Level: Medium"
   ]
  },
  {
   "cell_type": "code",
   "execution_count": 38,
   "metadata": {},
   "outputs": [],
   "source": [
    "first_m = np.random.randint(1,11,(2,2))\n",
    "sec_m = np.random.randint(11,22,(2,2))\n",
    "sum_1 = np.sum(first_m)\n",
    "sum_2 = np.sum(sec_m)\n",
    "total_sum =sum_1+sum_2"
   ]
  },
  {
   "cell_type": "code",
   "execution_count": null,
   "metadata": {},
   "outputs": [],
   "source": [
    "8. Find indexes of max element along axis=0 and axis=1 .\n",
    "Level: Medium"
   ]
  },
  {
   "cell_type": "code",
   "execution_count": 39,
   "metadata": {},
   "outputs": [
    {
     "name": "stdout",
     "output_type": "stream",
     "text": [
      "[[ 68 104  23]\n",
      " [ 77 102  30]\n",
      " [ 63  68  74]]\n",
      "[1 0 2]\n",
      "[1 1 2]\n"
     ]
    }
   ],
   "source": [
    "arr=np.random.randint(1,120,(3,3))\n",
    "print(arr)\n",
    "print(np.argmax(arr,axis=0))#col\n",
    "print(np.argmax(arr,axis=1))#row"
   ]
  },
  {
   "cell_type": "code",
   "execution_count": null,
   "metadata": {},
   "outputs": [],
   "source": [
    "9. Write a program to add two arrays of different shape.\n",
    "Hint: Broadcasting Level: Medium sample input:"
   ]
  },
  {
   "cell_type": "code",
   "execution_count": null,
   "metadata": {},
   "outputs": [],
   "source": []
  },
  {
   "cell_type": "code",
   "execution_count": null,
   "metadata": {},
   "outputs": [],
   "source": [
    "10. Try to solve a array and print a array with indices which would sort the given array.\n",
    "sample input:"
   ]
  },
  {
   "cell_type": "code",
   "execution_count": 40,
   "metadata": {},
   "outputs": [
    {
     "name": "stdout",
     "output_type": "stream",
     "text": [
      "sorted index of arry [[2 0 1]\n",
      " [2 0 1]\n",
      " [0 1 2]]\n",
      "elements of sorted array [[7 5 1]\n",
      " [7 5 1]\n",
      " [5 1 7]]\n"
     ]
    }
   ],
   "source": [
    "ary=np.array([5,1,7,2])\n",
    "ind = np.argsort(arr)\n",
    "print(\"sorted index of arry\",np.argsort(arr))\n",
    "print(\"elements of sorted array\",ary[ind])"
   ]
  },
  {
   "cell_type": "code",
   "execution_count": null,
   "metadata": {},
   "outputs": [],
   "source": [
    "11. Try to do perform same operation mentioned in previous questions for multidimentional array along both axis.\n",
    "Level: Medium"
   ]
  },
  {
   "cell_type": "code",
   "execution_count": 41,
   "metadata": {},
   "outputs": [
    {
     "name": "stdout",
     "output_type": "stream",
     "text": [
      "[[ 61 102 110]\n",
      " [ 10  73  46]\n",
      " [ 11  83  66]]\n",
      "Column Indices [[1 1 1]\n",
      " [2 2 2]\n",
      " [0 0 0]]\n",
      "Row Indices [[0 1 2]\n",
      " [0 2 1]\n",
      " [0 2 1]]\n"
     ]
    }
   ],
   "source": [
    "arr=np.random.randint(1,111,(3,3))\n",
    "print(arr)\n",
    "print(\"Column Indices\",np.argsort(arr,axis=0))#column\n",
    "print(\"Row Indices\",np.argsort(arr,axis=1))#row"
   ]
  },
  {
   "cell_type": "code",
   "execution_count": null,
   "metadata": {},
   "outputs": [],
   "source": [
    "12. calculate multiplication of transpose and matrix itself of a 3*3 matrix.¶\n",
    "Level: Medium"
   ]
  },
  {
   "cell_type": "code",
   "execution_count": 44,
   "metadata": {},
   "outputs": [
    {
     "name": "stdout",
     "output_type": "stream",
     "text": [
      "[[137 159 103]\n",
      " [ 43 139  43]\n",
      " [162  54  25]]\n"
     ]
    }
   ],
   "source": [
    "simp_arry = np.random.randint(1,200,(3,3))\n",
    "transpo_arry = simp_arry.transpose()\n",
    "mul_arr = simp_arry.dot(transpo_arry)\n",
    "print(transpo_arry)"
   ]
  },
  {
   "cell_type": "code",
   "execution_count": null,
   "metadata": {},
   "outputs": [],
   "source": [
    "13. Find solution for given linear equstion:\n",
    "2x + 5y = 28 4x + 3*y = 81"
   ]
  }
 ],
 "metadata": {
  "kernelspec": {
   "display_name": "Python 3",
   "language": "python",
   "name": "python3"
  },
  "language_info": {
   "codemirror_mode": {
    "name": "ipython",
    "version": 3
   },
   "file_extension": ".py",
   "mimetype": "text/x-python",
   "name": "python",
   "nbconvert_exporter": "python",
   "pygments_lexer": "ipython3",
   "version": "3.7.4"
  }
 },
 "nbformat": 4,
 "nbformat_minor": 2
}
